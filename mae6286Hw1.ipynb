{
 "cells": [
  {
   "cell_type": "code",
   "execution_count": 2,
   "metadata": {
    "collapsed": true
   },
   "outputs": [],
   "source": [
    "import numpy as np \n",
    "import math\n",
    "from matplotlib import pyplot\n",
    "from matplotlib import rcParams\n",
    "%matplotlib inline\n",
    "rcParams['font.family']='serif'\n",
    "rcParams['font.size']=16"
   ]
  },
  {
   "cell_type": "markdown",
   "metadata": {},
   "source": [
    "# assignment 1"
   ]
  },
  {
   "cell_type": "markdown",
   "metadata": {},
   "source": [
    "### 1. tools of scientific python"
   ]
  },
  {
   "cell_type": "code",
   "execution_count": 3,
   "metadata": {},
   "outputs": [
    {
     "name": "stdout",
     "output_type": "stream",
     "text": [
      "The 6th element is : 6.2619\n"
     ]
    }
   ],
   "source": [
    "x1=np.linspace(4,23,43)\n",
    "print('The 6th element is :'' '\"%.4f\" %x1[5])"
   ]
  },
  {
   "cell_type": "markdown",
   "metadata": {},
   "source": [
    "### 2.array demensions"
   ]
  },
  {
   "cell_type": "code",
   "execution_count": 16,
   "metadata": {},
   "outputs": [
    {
     "name": "stdout",
     "output_type": "stream",
     "text": [
      "(5, 17)\n"
     ]
    }
   ],
   "source": [
    "ones_array =np.ones((5,17))\n",
    "zeros_array=np.zeros(ones_array.shape)\n",
    "print(zeros_array.shape)"
   ]
  },
  {
   "cell_type": "markdown",
   "metadata": {},
   "source": [
    "### 3.Array trigonometry"
   ]
  },
  {
   "cell_type": "code",
   "execution_count": 23,
   "metadata": {},
   "outputs": [
    {
     "name": "stdout",
     "output_type": "stream",
     "text": [
      "the second one is: 0.9901\n"
     ]
    }
   ],
   "source": [
    "p =7\n",
    "r = np.array([11.2, 4.7, 6.6])\n",
    "x2=(np.sin(p/r))**3\n",
    "print('the second one is:'' '\"%.4f\" %x2[1])"
   ]
  },
  {
   "cell_type": "markdown",
   "metadata": {},
   "source": [
    "### 4.orders of  convergence "
   ]
  },
  {
   "cell_type": "code",
   "execution_count": 29,
   "metadata": {},
   "outputs": [
    {
     "name": "stdout",
     "output_type": "stream",
     "text": [
      "order of convergence is: 2.00\n"
     ]
    }
   ],
   "source": [
    "f3=1.600\n",
    "f2=1.500\n",
    "f1=1.475\n",
    "r=2\n",
    "x3=(np.log(f3-f2)-np.log(f2-f1))/np.log(r)\n",
    "print('order of convergence is:'' '\"%.2f\" %x3)"
   ]
  },
  {
   "cell_type": "markdown",
   "metadata": {},
   "source": [
    "### 5.rocket flight"
   ]
  },
  {
   "cell_type": "code",
   "execution_count": 7,
   "metadata": {},
   "outputs": [],
   "source": [
    "T=50          #final time\n",
    "dt=0.1          #time increment\n",
    "N=int(T/dt)+1     #number of time step\n",
    "ms= 50           #weight of the rocket shell\n",
    "g=9.81            #gravity\n",
    "dens= 1.091        #air density\n",
    "A=np.pi * 0.25      #max cross section area of the rocket\n",
    "ve=325               #exhausted spped\n",
    "cd=0.15              #drag coefficient\n",
    "mp_zero=100          #initial weight of the rocket's propellant\n",
    "\n",
    "def f(u):\n",
    "    h =u[0]\n",
    "    v=u[1]\n",
    "    t=u[2]\n",
    "    return np.array([v,\n",
    "                     -g+mp_dot*ve/(ms+mp)-0.5*dens*v*np.abs(v)*A*cd/(ms+mp),\n",
    "                     1])\n",
    "\n",
    "def euler_step(u,f,dt):\n",
    "    return u+dt*f(u)\n",
    "\n",
    "u=np.empty((N,3))\n",
    "u[0]=np.array([0,0,0])      # set initial value\n",
    "for n in range(N-1):\n",
    "    if n<50:\n",
    "        mp_dot=20\n",
    "        mp=mp_zero-mp_dot*n*dt\n",
    "    else:\n",
    "        mp_dot=0\n",
    "        mp=0\n",
    "    u[n+1]=euler_step(u[n],f,dt)\n",
    "    \n",
    "height=u[:,0]\n",
    "velocity=u[:,1]\n",
    "time = u[:,2]\n"
   ]
  },
  {
   "cell_type": "markdown",
   "metadata": {},
   "source": [
    "### 5.1remaining fuel"
   ]
  },
  {
   "cell_type": "code",
   "execution_count": 8,
   "metadata": {},
   "outputs": [
    {
     "name": "stdout",
     "output_type": "stream",
     "text": [
      "the remain fuel is: 36.0 kg\n"
     ]
    }
   ],
   "source": [
    "t=3.2\n",
    "n1=int(t/dt)\n",
    "if n1<50:\n",
    "        mp_dot=20\n",
    "else:\n",
    "        mp_dot=0\n",
    "fuel_remain= mp_zero-mp_dot*n1*dt\n",
    "print('the remain fuel is:',fuel_remain,'kg')"
   ]
  },
  {
   "cell_type": "markdown",
   "metadata": {},
   "source": [
    "### 5.2max velocity "
   ]
  },
  {
   "cell_type": "code",
   "execution_count": 9,
   "metadata": {},
   "outputs": [
    {
     "name": "stdout",
     "output_type": "stream",
     "text": [
      "the maximum speed is: 232.11 m/s\n",
      "the height is: 523.52 m\n",
      "the time is: 5.00 s\n"
     ]
    }
   ],
   "source": [
    "v_max=max(velocity)\n",
    "array1=np.where(velocity==np.max(velocity))\n",
    "print('the maximum speed is:','%.2f'%v_max,'m/s')\n",
    "print('the height is:','%.2f'%height[array1[0]],'m')\n",
    "print('the time is:','%.2f'%time[array1[0]],'s')"
   ]
  },
  {
   "cell_type": "markdown",
   "metadata": {},
   "source": [
    "### 5.3max height"
   ]
  },
  {
   "cell_type": "code",
   "execution_count": 85,
   "metadata": {},
   "outputs": [
    {
     "name": "stdout",
     "output_type": "stream",
     "text": [
      "(array([157]),)\n",
      "the maximum height is: 1334.18 m\n",
      "the time is: 15.70 s\n"
     ]
    }
   ],
   "source": [
    "h_max=max(height)\n",
    "array2=np.where(height==np.max(height))\n",
    "print('the maximum height is:','%.2f'%h_max,'m')\n",
    "print('the time is:','%.2f'%time[array2[0]],'s')"
   ]
  },
  {
   "cell_type": "markdown",
   "metadata": {},
   "source": [
    "### 5.4impact"
   ]
  },
  {
   "cell_type": "code",
   "execution_count": 84,
   "metadata": {},
   "outputs": [
    {
     "name": "stdout",
     "output_type": "stream",
     "text": [
      "[371 372 373 374 375 376 377 378 379 380 381 382 383 384 385 386 387 388\n",
      " 389 390 391 392 393 394 395 396 397 398 399 400 401 402 403 404 405 406\n",
      " 407 408 409 410 411 412 413 414 415 416 417 418 419 420 421 422 423 424\n",
      " 425 426 427 428 429 430 431 432 433 434 435 436 437 438 439 440 441 442\n",
      " 443 444 445 446 447 448 449 450 451 452 453 454 455 456 457 458 459 460\n",
      " 461 462 463 464 465 466 467 468 469 470 471 472 473 474 475 476 477 478\n",
      " 479 480 481 482 483 484 485 486 487 488 489 490 491 492 493 494 495 496\n",
      " 497 498 499 500]\n",
      "the time is: 37.10 s\n",
      "the velocity is: -86.01 m/s\n"
     ]
    }
   ],
   "source": [
    "array3=np.ravel(np.where(height<0))\n",
    "print(array3)\n",
    "print('the time is:','%.2f'%time[array3[0]],'s')\n",
    "print('the velocity is:','%.2f'%velocity[array3[0]],'m/s')"
   ]
  },
  {
   "cell_type": "code",
   "execution_count": null,
   "metadata": {
    "collapsed": true
   },
   "outputs": [],
   "source": []
  }
 ],
 "metadata": {
  "kernelspec": {
   "display_name": "Python 3",
   "language": "python",
   "name": "python3"
  },
  "language_info": {
   "codemirror_mode": {
    "name": "ipython",
    "version": 3
   },
   "file_extension": ".py",
   "mimetype": "text/x-python",
   "name": "python",
   "nbconvert_exporter": "python",
   "pygments_lexer": "ipython3",
   "version": "3.6.1"
  }
 },
 "nbformat": 4,
 "nbformat_minor": 2
}
