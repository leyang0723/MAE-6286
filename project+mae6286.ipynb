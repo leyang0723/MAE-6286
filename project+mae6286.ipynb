{
 "cells": [
  {
   "cell_type": "markdown",
   "metadata": {},
   "source": [
    "### 1. Mathmetical model"
   ]
  },
  {
   "cell_type": "markdown",
   "metadata": {},
   "source": [
    "For a function u(x,y,z,t) of three spatial variables (x,y,z)  and the time variable t, the heat equation is:\n",
    "\n",
    "\\begin{equation}\\frac{\\partial u}{\\partial t}-\\alpha (\\frac{\\partial^2u}{\\partial x^2}+\\frac{\\partial^2u}{\\partial y^2}+\\frac{\\partial^2u}{\\partial z^2})=0\\end{equation}\n",
    "\n",
    "\\begin{equation}\\frac{\\partial u}{\\partial t}=\\alpha (\\frac{\\partial^2u}{\\partial x^2}+\\frac{\\partial^2u}{\\partial y^2}+\\frac{\\partial^2u}{\\partial z^2})=\\alpha (u_xx +u_yy +u_zz)\\end{equation}\n",
    "\n",
    "In the equations above, $\\alpha$ is the thermal diffusivity:\n",
    "\n",
    "\\begin{equation}\\alpha=\\frac{k}{c_p\\rho}\\end{equation}\n",
    "\n",
    "$k$ is the thermal conductivity, $c_p$ is specific heat capacity, $\\rho$ is density\n",
    "\n",
    "$\\frac {\\partial u}{\\partial t}$ is the rate of change of temperature at a point over time;\n",
    "\n",
    "$u_xx$, $u_yy$, and $u_zz$ are the second spatial derivatives (thermal conductions) of temperature in the x, y, and z directions, respectively;\n",
    "\n",
    "Suppose that a body obeys the heat equation and, in addition, generates its own heat per unit volume at a rate given by a known function q varying in space and time. Then the heat per unit volume u satisfies an equation:\n",
    "\n",
    "\\begin{equation}\\frac{\\partial u}{\\partial t}=\\alpha (\\frac{\\partial^2u}{\\partial x^2}+\\frac{\\partial^2u}{\\partial y^2}+\\frac{\\partial^2u}{\\partial z^2})+\\frac{1}{c_p\\rho}q(x,y,z,t)\\end{equation}\n",
    "\n",
    "where $q(x,y,z,t)$ is the volumetric heat source.\n",
    "\n"
   ]
  },
  {
   "cell_type": "code",
   "execution_count": null,
   "metadata": {
    "collapsed": true
   },
   "outputs": [],
   "source": []
  }
 ],
 "metadata": {
  "kernelspec": {
   "display_name": "Python 3",
   "language": "python",
   "name": "python3"
  },
  "language_info": {
   "codemirror_mode": {
    "name": "ipython",
    "version": 3
   },
   "file_extension": ".py",
   "mimetype": "text/x-python",
   "name": "python",
   "nbconvert_exporter": "python",
   "pygments_lexer": "ipython3",
   "version": "3.6.3"
  }
 },
 "nbformat": 4,
 "nbformat_minor": 2
}
