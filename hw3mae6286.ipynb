{
 "cells": [
  {
   "cell_type": "code",
   "execution_count": 1,
   "metadata": {
    "collapsed": true
   },
   "outputs": [],
   "source": [
    "%matplotlib inline\n",
    "import numpy as np\n",
    "from matplotlib import pyplot\n",
    "from matplotlib import rcParams\n",
    "rcParams['font.family'] = 'serif'\n",
    "rcParams['font.size'] = 16"
   ]
  },
  {
   "cell_type": "markdown",
   "metadata": {},
   "source": [
    "### flux limits"
   ]
  },
  {
   "cell_type": "code",
   "execution_count": 1,
   "metadata": {},
   "outputs": [
    {
     "name": "stdout",
     "output_type": "stream",
     "text": [
      "A is: 0.01977\n",
      "B is: 0.00313\n"
     ]
    }
   ],
   "source": [
    "import sympy\n",
    "sympy.init_printing()\n",
    "(u_max, u_star, rho_max, \n",
    " rho_star, A, B) = sympy.symbols('u_max u_star rho_max rho_star A B')\n",
    "eq1 = sympy.Eq( 0, u_max*rho_max*(1 - A*rho_max-B*rho_max**2) )\n",
    "eq2 = sympy.Eq( 0, u_max*(1 - 2*A*rho_star-3*B*rho_star**2) )\n",
    "eq3 = sympy.Eq( u_star, u_max*(1 - A*rho_star - B*rho_star**2) )\n",
    "eq4 = sympy.Eq(eq2.lhs - 3*eq3.lhs, eq2.rhs - 3*eq3.rhs)\n",
    "rho_sol = sympy.solve(eq4,rho_star)[0]\n",
    "B_sol = sympy.solve(eq1,B)[0]\n",
    "quadA = eq2.subs([(rho_star, rho_sol), (B,B_sol)])\n",
    "A_sol = sympy.solve(quadA, A)\n",
    "aval_a = A_sol[0].evalf(subs={u_star: 1.5, u_max:2.0, rho_max:15.0} )\n",
    "aval_b = A_sol[1].evalf(subs={u_star: 1.5, u_max:2.0, rho_max:15.0} )\n",
    "if aval_a > aval_b:\n",
    "    aval = aval_a\n",
    "else:\n",
    "    aval = aval_b\n",
    "print('A is:','%.5f'%aval)\n",
    "bval = B_sol.evalf(subs={rho_max:15.0,A:aval} )\n",
    "print('B is:','%.5f'%bval)\n"
   ]
  },
  {
   "cell_type": "markdown",
   "metadata": {},
   "source": [
    "### coding assignment"
   ]
  },
  {
   "cell_type": "code",
   "execution_count": 91,
   "metadata": {},
   "outputs": [
    {
     "data": {
      "text/plain": [
       "Text(0.5,0,'Distance')"
      ]
     },
     "execution_count": 91,
     "metadata": {},
     "output_type": "execute_result"
    },
    {
     "data": {
      "image/png": "[encoded data removed]",
      "text/plain": [
       "<matplotlib.figure.Figure at 0x11c52e5c0>"
      ]
     },
     "metadata": {},
     "output_type": "display_data"
    }
   ],
   "source": [
    "nx=81 \n",
    "dx=0.25\n",
    "dt=0.0002\n",
    "nt= 50\n",
    "gamma=1.4\n",
    "x=np.linspace(-10,10,nx)\n",
    "U=np.zeros((3,81))\n",
    "\n",
    "def et(p,gamma,u,rou):\n",
    "    return p/((gamma-1)*rou)+0.5*(u**2)\n",
    "\n",
    "###initail condition of left side\n",
    "rou_l =1 \n",
    "u_l =0 \n",
    "p_l =100000\n",
    "et_l=et(p_l,gamma,u_l,rou_l)\n",
    "u0_l=[rou_l,rou_l*u_l,rou_l*et_l]\n",
    "\n",
    "\n",
    "###initial conditions of right side\n",
    "rou_r =0.125\n",
    "u_r=0\n",
    "p_r=10000\n",
    "et_r=et(p_r,gamma,u_r,rou_r)\n",
    "u0_r=[rou_r,rou_r*u_r,rou_r*et_r]\n",
    "\n",
    "\n",
    "i=0\n",
    "while i<=2:\n",
    "    U[i,0:41]=u0_l[i]\n",
    "    U[i,41:81]=u0_r[i]\n",
    "    i=i+1\n",
    "\n",
    "def F(N):\n",
    "    F=np.zeros((3,81))\n",
    "    u1=N[0,:]\n",
    "    u2=N[1,:]\n",
    "    u3=N[2,:]\n",
    "    F[0,:]=u2\n",
    "    F[1,:]=(u2**2)/u1+(gamma-1)*(u3-(u2**2)/(2*u1))\n",
    "    F[2,:]=u2/u1*(u3+(gamma-1)*(u3-(u2**2)/(2*u1)))\n",
    "    return F\n",
    "\n",
    "\n",
    "Ui= U.copy()\n",
    "U_p = U.copy()\n",
    "U_m =U.copy()\n",
    "\n",
    "i=1\n",
    "while i<=nt:\n",
    "    f1=F(U)\n",
    "    U_p[:,0:79]=1/2*(U[:,1:80]+U[:,0:79])-dt/(2*dx)*(f1[:,1:80]-f1[:,0:79])   \n",
    "    U_m[:,1:80]=U_p[:,0:79]\n",
    "    f2=F(U_p)\n",
    "    f3=F(U_m)\n",
    "    Ui[:,1:79]=U[:,1:79]-dt/dx*(f2[:,1:79]-f3[:,1:79])\n",
    "    Ui[:,80]=Ui[:,79]\n",
    "    Ui[:,0]=Ui[:,1]\n",
    "    U=Ui\n",
    "    i=i+1\n",
    "\n",
    "Velocity=U[1,:]/U[0,:]\n",
    "Rho=U[0,:]\n",
    "Pressure= (U[2,:]-0.5*U[1,:]**2/U[0,:])*(gamma-1)\n",
    "\n",
    "pyplot.plot(x, Velocity, color='#003366', ls='-', lw=3)\n",
    "pyplot.ylabel('Velocity')\n",
    "pyplot.xlabel('Distance')"
   ]
  },
  {
   "cell_type": "code",
   "execution_count": 90,
   "metadata": {},
   "outputs": [
    {
     "data": {
      "text/plain": [
       "Text(0.5,0,'Distance')"
      ]
     },
     "execution_count": 90,
     "metadata": {},
     "output_type": "execute_result"
    },
    {
     "data": {
      "image/png": "[encoded data removed]",
      "text/plain": [
       "<matplotlib.figure.Figure at 0x113dd7b70>"
      ]
     },
     "metadata": {},
     "output_type": "display_data"
    }
   ],
   "source": [
    "pyplot.plot(x, Rho, color='#003366', ls='-', lw=3)\n",
    "pyplot.ylabel('rho')\n",
    "pyplot.xlabel('Distance')"
   ]
  },
  {
   "cell_type": "code",
   "execution_count": 92,
   "metadata": {},
   "outputs": [
    {
     "data": {
      "text/plain": [
       "Text(0.5,0,'Distance')"
      ]
     },
     "execution_count": 92,
     "metadata": {},
     "output_type": "execute_result"
    },
    {
     "data": {
      "image/png": "[encoded data removed]",
      "text/plain": [
       "<matplotlib.figure.Figure at 0x11c46d240>"
      ]
     },
     "metadata": {},
     "output_type": "display_data"
    }
   ],
   "source": [
    "pyplot.plot(x, Pressure, color='#003366', ls='-', lw=3)\n",
    "pyplot.ylabel('pressure')\n",
    "pyplot.xlabel('Distance')"
   ]
  },
  {
   "cell_type": "code",
   "execution_count": 94,
   "metadata": {},
   "outputs": [
    {
     "name": "stdout",
     "output_type": "stream",
     "text": [
      "the velocity at x=2.5 is: 292.61 m/s\n"
     ]
    }
   ],
   "source": [
    "print('the velocity at x=2.5 is:','%.2f'%Velocity[51],'m/s')"
   ]
  },
  {
   "cell_type": "code",
   "execution_count": 95,
   "metadata": {},
   "outputs": [
    {
     "name": "stdout",
     "output_type": "stream",
     "text": [
      "the pressure at x=2.5 is: 30250.89 N/m2\n"
     ]
    }
   ],
   "source": [
    "print('the pressure at x=2.5 is:','%.2f'%Pressure[51],'N/m2')"
   ]
  },
  {
   "cell_type": "code",
   "execution_count": 96,
   "metadata": {},
   "outputs": [
    {
     "name": "stdout",
     "output_type": "stream",
     "text": [
      "the density at x=2.5 is: 0.37 kg/m3\n"
     ]
    }
   ],
   "source": [
    "print('the density at x=2.5 is:','%.2f'%Rho[51],'kg/m3')"
   ]
  },
  {
   "cell_type": "code",
   "execution_count": null,
   "metadata": {
    "collapsed": true
   },
   "outputs": [],
   "source": []
  }
 ],
 "metadata": {
  "kernelspec": {
   "display_name": "Python 3",
   "language": "python",
   "name": "python3"
  },
  "language_info": {
   "codemirror_mode": {
    "name": "ipython",
    "version": 3
   },
   "file_extension": ".py",
   "mimetype": "text/x-python",
   "name": "python",
   "nbconvert_exporter": "python",
   "pygments_lexer": "ipython3",
   "version": "3.6.3"
  }
 },
 "nbformat": 4,
 "nbformat_minor": 2
}
