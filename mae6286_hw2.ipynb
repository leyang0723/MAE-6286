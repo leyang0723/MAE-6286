{
 "cells": [
  {
   "cell_type": "code",
   "execution_count": 20,
   "metadata": {
    "collapsed": true
   },
   "outputs": [],
   "source": [
    "%matplotlib inline\n",
    "import numpy as np\n",
    "from matplotlib import pyplot\n",
    "from matplotlib import rcParams\n",
    "rcParams['font.family'] = 'serif'\n",
    "rcParams['font.size'] = 16"
   ]
  },
  {
   "cell_type": "markdown",
   "metadata": {},
   "source": [
    "### stability"
   ]
  },
  {
   "cell_type": "code",
   "execution_count": 55,
   "metadata": {},
   "outputs": [
    {
     "name": "stdout",
     "output_type": "stream",
     "text": [
      "the maximum value of dt is:  0.05\n"
     ]
    }
   ],
   "source": [
    "dx=0.2\n",
    "c=4\n",
    "dt=dx/c\n",
    "print('the maximum value of dt is: ','%.2f'%dt)"
   ]
  },
  {
   "cell_type": "markdown",
   "metadata": {},
   "source": [
    "### sympy"
   ]
  },
  {
   "cell_type": "code",
   "execution_count": 53,
   "metadata": {},
   "outputs": [
    {
     "name": "stdout",
     "output_type": "stream",
     "text": [
      "the value is:  -0.000266\n"
     ]
    }
   ],
   "source": [
    "import sympy\n",
    "from sympy.utilities.lambdify import lambdify\n",
    "x=sympy.symbols('x')\n",
    "y=(cos(x))**2 * (sin(x))**3/(4*(x**5)*exp(x))\n",
    "yprime=y.diff(x)\n",
    "result=lambdify(x,yprime)\n",
    "print('the value is: ','%.6f'%(result(2.2)))\n"
   ]
  },
  {
   "cell_type": "markdown",
   "metadata": {},
   "source": [
    "### coding assignment: traffic flow"
   ]
  },
  {
   "cell_type": "code",
   "execution_count": 21,
   "metadata": {
    "collapsed": true
   },
   "outputs": [],
   "source": [
    "L=11\n",
    "rou_max=250\n",
    "nx=51\n",
    "dt=0.001\n",
    "nt= 150\n",
    "dx=L/(nx-1)"
   ]
  },
  {
   "cell_type": "markdown",
   "metadata": {},
   "source": [
    "### simulation part A"
   ]
  },
  {
   "cell_type": "code",
   "execution_count": 42,
   "metadata": {},
   "outputs": [
    {
     "name": "stdout",
     "output_type": "stream",
     "text": [
      "the minimum velocity at t=0 is:  17.78 m/s\n",
      "the average velocity at t=3 minite is:  20.64 m/s\n",
      "the minimum velocity at t=6 minite is:  18.78 m/s\n"
     ]
    }
   ],
   "source": [
    "x=np.linspace(0,L,nx)\n",
    "rou0=np.ones(nx)*10\n",
    "rou0[10:20]=50\n",
    "v_max=80\n",
    "def Flux(rou_max,v_max,rou0):\n",
    "    return v_max*rou0*(1-(rou0/rou_max))\n",
    "\n",
    "rou_n=np.zeros((nt,nx))\n",
    "rou_n[0,:]=rou0.copy()\n",
    "rou_n[:,0]=10\n",
    "\n",
    "for t in range(1,nt):\n",
    "    F=Flux(rou_max,v_max,rou0)\n",
    "    rou_n[t,1:] = rou0[1:] - dt/dx*(F[1:]-F[:-1])\n",
    "    rou0 = rou_n[t].copy()\n",
    "    \n",
    "V=v_max*(1-rou_n/rou_max)\n",
    "v1=np.min(V[0,:])*1000/3600\n",
    "v2=np.mean(V[50,:])*1000/3600\n",
    "v3=np.min(V[100,:])*1000/3600\n",
    "print('the minimum velocity at t=0 is: ','%.2f'%v1,'m/s')\n",
    "print('the average velocity at t=3 minite is: ','%.2f'%v2,'m/s')\n",
    "print('the minimum velocity at t=6 minite is: ','%.2f'%v3,'m/s')"
   ]
  },
  {
   "cell_type": "markdown",
   "metadata": {
    "collapsed": true
   },
   "source": [
    "### simulation partB"
   ]
  },
  {
   "cell_type": "code",
   "execution_count": 43,
   "metadata": {},
   "outputs": [
    {
     "name": "stdout",
     "output_type": "stream",
     "text": [
      "the minimum velocity at t=0 is:  30.22 m/s\n",
      "the average velocity at t=3 minite is:  33.87 m/s\n",
      "the minimum velocity at t=3 minite is:  30.99 m/s\n"
     ]
    }
   ],
   "source": [
    "v_max=136\n",
    "rou0=np.ones(nx)*20\n",
    "rou0[10:20]=50\n",
    "\n",
    "def Flux(rou_max,v_max,rou0):\n",
    "    return v_max*rou0*(1-(rou0/rou_max))\n",
    "\n",
    "rou_n=np.zeros((nt,nx))\n",
    "rou_n[0,:]=rou0.copy()\n",
    "rou_n[:,0]=20\n",
    "\n",
    "for t in range(1,nt):\n",
    "    F=Flux(rou_max,v_max,rou0)\n",
    "    rou_n[t,1:] = rou0[1:] - dt/dx*(F[1:]-F[:-1])\n",
    "    rou0 = rou_n[t].copy()\n",
    "    \n",
    "V=v_max2*(1-rou_n/rou_max)\n",
    "v1=np.min(V[0,:])*1000/3600\n",
    "v2=np.mean(V[50,:])*1000/3600\n",
    "v3=np.min(V[50,:])*1000/3600\n",
    "print('the minimum velocity at t=0 is: ','%.2f'%v1,'m/s')\n",
    "print('the average velocity at t=3 minite is: ','%.2f'%v2,'m/s')\n",
    "print('the minimum velocity at t=3 minite is: ','%.2f'%v3,'m/s')"
   ]
  },
  {
   "cell_type": "code",
   "execution_count": null,
   "metadata": {
    "collapsed": true
   },
   "outputs": [],
   "source": []
  }
 ],
 "metadata": {
  "kernelspec": {
   "display_name": "Python 3",
   "language": "python",
   "name": "python3"
  },
  "language_info": {
   "codemirror_mode": {
    "name": "ipython",
    "version": 3
   },
   "file_extension": ".py",
   "mimetype": "text/x-python",
   "name": "python",
   "nbconvert_exporter": "python",
   "pygments_lexer": "ipython3",
   "version": "3.6.1"
  }
 },
 "nbformat": 4,
 "nbformat_minor": 2
}
