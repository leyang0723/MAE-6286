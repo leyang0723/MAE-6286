{
 "cells": [
  {
   "cell_type": "code",
   "execution_count": 1,
   "metadata": {
    "collapsed": true
   },
   "outputs": [],
   "source": [
    "from matplotlib import pyplot\n",
    "import numpy\n",
    "%matplotlib inline\n",
    "from matplotlib import rcParams,cm\n",
    "rcParams['font.family'] = 'serif'\n",
    "rcParams['font.size'] = 16"
   ]
  },
  {
   "cell_type": "code",
   "execution_count": 2,
   "metadata": {
    "collapsed": true
   },
   "outputs": [],
   "source": [
    "def L1norm(new, old):\n",
    "    norm = numpy.sum(numpy.abs(new-old))\n",
    "    return norm"
   ]
  },
  {
   "cell_type": "code",
   "execution_count": 26,
   "metadata": {
    "collapsed": true
   },
   "outputs": [],
   "source": [
    "def strokeflow(w,p,dx,dy,l1_target):\n",
    "    norm1=1\n",
    "    norm2=1\n",
    "    \n",
    "    il = 0\n",
    "    \n",
    "    while norm1>l1_target or norm2>l1_target:\n",
    "        pn=p.copy()\n",
    "        wn=w.copy()\n",
    "        #pn=numpy.empty_like(p)\n",
    "        #wn=numpy.empty_like(w)\n",
    "\n",
    "        w[1:-1,1:-1] = 0.25*(wn[1:-1,2:] + wn[1:-1, :-2]+ wn[2:, 1:-1] + wn[:-2, 1:-1])\n",
    "        \n",
    "        p[1:-1,1:-1] = 1/(2*(dx**2 + dy**2))*((pn[1:-1,2:]\\\n",
    "                                               +pn[1:-1,:-2])*dy**2 +(pn[2:,1:-1] + pn[:-2,1:-1])*dx**2\\\n",
    "                                              +wn[1:-1,1:-1]*dx**2*dy**2)\n",
    "        ##Neumann boundary condition for psi\n",
    "        #p[:,0]=p[:,1]\n",
    "        #p[:,-1]=p[:,-2]\n",
    "        #p[0,:]=p[1,:]\n",
    "        #p[-1,:]=p[-2,:]+dy*u\n",
    "    \n",
    "            ##boundary condition for omega\n",
    "        w[-1,:]=-0.5/dy**2*(8*p[-2,:]-p[-3,:])-3/dy\n",
    "        w[0,:]=-0.5/dy**2*(8*p[1,:]-p[2,:])\n",
    "        w[:,-1]=-0.5/dx**2*(8*p[:,-2]-p[:,-3])\n",
    "        w[:,0]= -0.5/dx**2*(8*p[:,1]-p[:,2])\n",
    "        norm1= L1norm(w, wn)\n",
    "        norm2= L1norm(p, pn)\n",
    "        \n",
    "        il +=1\n",
    "    return w, p\n",
    "    "
   ]
  },
  {
   "cell_type": "code",
   "execution_count": 27,
   "metadata": {},
   "outputs": [
    {
     "data": {
      "text/plain": [
       "array([[  0.00000000e+00,   0.00000000e+00,   0.00000000e+00, ...,\n",
       "          0.00000000e+00,   0.00000000e+00,   0.00000000e+00],\n",
       "       [  0.00000000e+00,   1.41429633e-06,   2.17360372e-06, ...,\n",
       "          2.17360372e-06,   1.41429633e-06,   0.00000000e+00],\n",
       "       [  0.00000000e+00,   2.20482440e-06,   1.45898838e-07, ...,\n",
       "          1.45898838e-07,   2.20482440e-06,   0.00000000e+00],\n",
       "       ..., \n",
       "       [  0.00000000e+00,  -6.35061518e-03,  -1.52288240e-02, ...,\n",
       "         -1.52288240e-02,  -6.35061518e-03,   0.00000000e+00],\n",
       "       [  0.00000000e+00,  -7.32622358e-03,  -1.33638594e-02, ...,\n",
       "         -1.33638594e-02,  -7.32622358e-03,   0.00000000e+00],\n",
       "       [  0.00000000e+00,   0.00000000e+00,   0.00000000e+00, ...,\n",
       "          0.00000000e+00,   0.00000000e+00,   0.00000000e+00]])"
      ]
     },
     "execution_count": 27,
     "metadata": {},
     "output_type": "execute_result"
    }
   ],
   "source": [
    "nx = 41\n",
    "ny = 41\n",
    "\n",
    "l = 1.\n",
    "h = 1.\n",
    "\n",
    "dx = l/(nx-1)\n",
    "dy = h/(ny-1)\n",
    "u=1\n",
    "x=numpy.linspace(0,l,nx)\n",
    "y=numpy.linspace(0,h,ny)\n",
    "w=numpy.zeros((nx,ny))\n",
    "p=numpy.zeros((nx,ny))\n",
    "l1_target = 1e-6\n",
    "\n",
    "(omega, psi)=strokeflow(w,p,dx,dy,l1_target)\n",
    "omega\n",
    "psi"
   ]
  },
  {
   "cell_type": "code",
   "execution_count": 28,
   "metadata": {},
   "outputs": [
    {
     "data": {
      "image/png": "[encoded data removed]",
      "text/plain": [
       "<matplotlib.figure.Figure at 0x10f3b0908>"
      ]
     },
     "metadata": {},
     "output_type": "display_data"
    }
   ],
   "source": [
    "pyplot.figure(figsize=(7,7))\n",
    "pyplot.contourf(x,y,psi,20, cmap=cm.viridis);"
   ]
  },
  {
   "cell_type": "code",
   "execution_count": 29,
   "metadata": {},
   "outputs": [],
   "source": [
    "s=numpy.round(psi[32,::8], 4)"
   ]
  },
  {
   "cell_type": "code",
   "execution_count": 50,
   "metadata": {},
   "outputs": [
    {
     "name": "stdout",
     "output_type": "stream",
     "text": [
      "the first to the sixth number is: 0.0000 -0.0575 -0.0944 -0.0944 -0.0575 0.0\n"
     ]
    }
   ],
   "source": [
    "print(\"the first to the sixth number is:\",\"%.4f\"%s[0],s[1],s[2],s[3],s[4],s[5])"
   ]
  },
  {
   "cell_type": "code",
   "execution_count": 47,
   "metadata": {},
   "outputs": [
    {
     "name": "stdout",
     "output_type": "stream",
     "text": [
      "the max number in psi is: 0.0998\n"
     ]
    }
   ],
   "source": [
    "print(\"the max number in psi is:\",\"%.4f\"%numpy.amax(abs(psi)) )"
   ]
  },
  {
   "cell_type": "code",
   "execution_count": 52,
   "metadata": {},
   "outputs": [
    {
     "name": "stdout",
     "output_type": "stream",
     "text": [
      "the max number in omega is: 78.1927\n"
     ]
    }
   ],
   "source": [
    "print(\"the max number in omega is:\",\"%.4f\"%numpy.amax(abs(omega)))"
   ]
  },
  {
   "cell_type": "code",
   "execution_count": null,
   "metadata": {
    "collapsed": true
   },
   "outputs": [],
   "source": []
  }
 ],
 "metadata": {
  "kernelspec": {
   "display_name": "Python 3",
   "language": "python",
   "name": "python3"
  },
  "language_info": {
   "codemirror_mode": {
    "name": "ipython",
    "version": 3
   },
   "file_extension": ".py",
   "mimetype": "text/x-python",
   "name": "python",
   "nbconvert_exporter": "python",
   "pygments_lexer": "ipython3",
   "version": "3.6.3"
  }
 },
 "nbformat": 4,
 "nbformat_minor": 2
}
